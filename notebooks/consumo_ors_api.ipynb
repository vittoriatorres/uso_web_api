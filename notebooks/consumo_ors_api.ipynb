{
 "cells": [
  {
   "cell_type": "markdown",
   "id": "57ac7ede",
   "metadata": {},
   "source": [
    "#### Calculando Distância e Duração de Rotas Utilizando Diferentes Meios de Transporte\n",
    "Calculating Distance and Duration of Routes Using Different Means of Transportation"
   ]
  },
  {
   "cell_type": "code",
   "execution_count": 7,
   "id": "613129be",
   "metadata": {},
   "outputs": [],
   "source": [
    "# Importando Bibliotecas | Importing Libraries\n",
    "import requests\n",
    "import time\n",
    "import json"
   ]
  },
  {
   "cell_type": "code",
   "execution_count": 8,
   "id": "18bf4415",
   "metadata": {},
   "outputs": [],
   "source": [
    "# Chave da API | API Key\n",
    "ors_api_key = 'eyJvcmciOiI1YjNjZTM1OTc4NTExMTAwMDFjZjYyNDgiLCJpZCI6IjY2OGJhM2Y2MjFkZDQzOTc4MjcwMmQxNGI2ZDY0YThmIiwiaCI6Im11cm11cjY0In0='\n",
    "\n",
    "# Para obter sua chave, visite https://account.heigit.org/manage/key e crie uma conta. \n",
    "# Assim que sua conta for ativada, vá para o seu Painel (Dashboard), copie a longa sequência de caracteres que aparece em Chave Básica (Basic Key) e a atribua a variável ors_api_key.\n",
    "\n",
    "# To get your key, visit https://account.heigit.org/manage/key and create an account.\n",
    "# Once your account is activated, go to your Dashboard, copy the long string that appears under Basic Key, and assign it to the ors_api_key variable."
   ]
  },
  {
   "cell_type": "code",
   "execution_count": 12,
   "id": "7f6d9157",
   "metadata": {},
   "outputs": [],
   "source": [
    "# Função para calcular distância e duração de rotas utilizando diferentes meios de transporte\n",
    "# Function to calculate route distance and duration using different modes of transport\n",
    "\n",
    "def get_route_info(source_coords, dest_coords, profile, api_key): # coordenadas devem estar em Graus Decimais | coordinates must be in Decimal Degrees (DD) \n",
    "    params = {\n",
    "        'api_key': ors_api_key, # API Key\n",
    "        'start': '{},{}'.format(source_coords[1], source_coords[0]), \n",
    "        'end': '{},{}'.format(dest_coords[1], dest_coords[0])\n",
    "    }\n",
    "\n",
    "    url = f\"https://api.openrouteservice.org/v2/directions/{profile}\"\n",
    "\n",
    "    try:\n",
    "        response = requests.get(url, params=params)\n",
    "        response.raise_for_status() # verifica se a requisição foi bem-sucedida | # checks if the request was successful\n",
    "\n",
    "        data = response.json()\n",
    "        summary = data['feature'][0]['properties']['summary']\n",
    "\n",
    "        distance_km = summary.get('distance', 0) / 1000 # converte distância para km | converts distance to km\n",
    "        duration_seconds = summary.get('duration',0) # duração de rotas em segundos | # Route duration in seconds\n",
    "\n",
    "        # Converter para formato HH:MM:SS | Convert to HH:MM:SS format\n",
    "        hours = int(duration_seconds // 3600)\n",
    "        minutes = int((duration_seconds % 3600) // 60)\n",
    "        seconds = int(duration_seconds % 60)\n",
    "        duration_formatted_str = f\"{hours:02d}:{minutes:02d}:{seconds:02d}\"\n",
    "\n",
    "        return distance_km, duration_formatted_str\n",
    "    except requests.exceptions.RequestException as e:\n",
    "        print(f\"Erro na requisição para o perfil '{profile}': {e}\")\n",
    "        print(f\"Request error for the profile '{profile}': {e}\")\n",
    "        if response is not None:\n",
    "             print(f\"Resposta da API: {response.text}\")\n",
    "             print(f\"API Response: {response.text}\")\n",
    "        return None, None\n",
    "    except (KeyError, IndexError):\n",
    "        print(f\"Erro ao analisar dados para o perfil '{profile}'. Resposta: {response.text}\")\n",
    "        print(f\"Error parsing data for the profile '{profile}'. Response: {response.text}\")\n",
    "        return None, None"
   ]
  },
  {
   "cell_type": "code",
   "execution_count": null,
   "id": "3b89b56a",
   "metadata": {},
   "outputs": [],
   "source": [
    "# Configuração dos Diretórios | Setting up Directories\n",
    "output_base_dir = r\"D:\\GitHub_Vittoria\\uso_web_api\\outputs\"\n",
    "FIGURES_DIR = os.path.join(OUTPUT_BASE_DIR, \"figures\")\n",
    "RESULTS_DIR = os.path.join(OUTPUT_BASE_DIR, \"results\")"
   ]
  },
  {
   "cell_type": "code",
   "execution_count": null,
   "id": "5388156d",
   "metadata": {},
   "outputs": [],
   "source": [
    "# Função para criar um mapa com a rota e salvar como arquivo JPG\n",
    "# Function to create a map with the route and save it as a JPG file"
   ]
  },
  {
   "cell_type": "code",
   "execution_count": null,
   "id": "e70446b2",
   "metadata": {},
   "outputs": [],
   "source": []
  },
  {
   "cell_type": "code",
   "execution_count": 13,
   "id": "044f998d",
   "metadata": {},
   "outputs": [],
   "source": [
    "# Origem | Source\n",
    "source = (-22.890656, -43.123864) # Caminho Niemeyer, Niterói (RJ)\n",
    "\n",
    "# Destinos | Destination\n",
    "destination_cities = {\n",
    "    'Rio de Janeiro': (-22.9519, -43.2105), # Cristo Redentor, Rio de Janeiro (RJ)\n",
    "    'Petropolis': (-22.5050, -43.1812), # Palácio de Cristal, Petrópolis (RJ)\n",
    "    'Paraty': (-23.2195, -44.7170) # Casa da Cultura de Paraty, Paraty (RJ)\n",
    "}"
   ]
  }
 ],
 "metadata": {
  "kernelspec": {
   "display_name": "introgis_python",
   "language": "python",
   "name": "python3"
  },
  "language_info": {
   "codemirror_mode": {
    "name": "ipython",
    "version": 3
   },
   "file_extension": ".py",
   "mimetype": "text/x-python",
   "name": "python",
   "nbconvert_exporter": "python",
   "pygments_lexer": "ipython3",
   "version": "3.12.7"
  }
 },
 "nbformat": 4,
 "nbformat_minor": 5
}
